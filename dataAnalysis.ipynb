{
 "cells": [
  {
   "cell_type": "code",
   "execution_count": 568,
   "metadata": {},
   "outputs": [],
   "source": [
    "import pandas as pd\n",
    "import numpy as np\n",
    "from pathlib import Path"
   ]
  },
  {
   "cell_type": "code",
   "execution_count": 569,
   "metadata": {},
   "outputs": [
    {
     "data": {
      "text/plain": [
       "'/Users/ianlin/Desktop/AlphaCampPractice'"
      ]
     },
     "execution_count": 569,
     "metadata": {},
     "output_type": "execute_result"
    }
   ],
   "source": [
    "# Get current working path\n",
    "os.getcwd()"
   ]
  },
  {
   "cell_type": "markdown",
   "metadata": {},
   "source": [
    "<font color=white size=6><mark style=background-color:grey> Part 1 問題 </mark></font>"
   ]
  },
  {
   "cell_type": "markdown",
   "metadata": {},
   "source": [
    "<font size=5> Q1. 載入資料＆簡易分析 </font>\n"
   ]
  },
  {
   "cell_type": "markdown",
   "metadata": {},
   "source": [
    "請將上述 metadata 資料載入成為 Pandas 的 DataFrame"
   ]
  },
  {
   "cell_type": "code",
   "execution_count": 570,
   "metadata": {},
   "outputs": [
    {
     "name": "stdout",
     "output_type": "stream",
     "text": [
      "Reading...  /Users/ianlin/Desktop/AlphaCampPractice/data/meta_All_Beauty.json.gz\n",
      "Done\n"
     ]
    }
   ],
   "source": [
    "# Read _JSON\n",
    "dataFile_path = os.getcwd() + '/data/meta_All_Beauty.json.gz'\n",
    "print('Reading... ', dataFile_path)\n",
    "meta_All_Beauty_df = pd.read_json(dataFile_path, lines=True, compression='gzip')\n",
    "print('Done')"
   ]
  },
  {
   "cell_type": "markdown",
   "metadata": {},
   "source": [
    "1. 在此份檔案當中，總共有多少筆資料？多少欄位？"
   ]
  },
  {
   "cell_type": "code",
   "execution_count": 571,
   "metadata": {},
   "outputs": [
    {
     "data": {
      "text/plain": [
       "(32892, 19)"
      ]
     },
     "execution_count": 571,
     "metadata": {},
     "output_type": "execute_result"
    }
   ],
   "source": [
    "# Get the shape of the Data Frame\n",
    "meta_All_Beauty_df.shape"
   ]
  },
  {
   "cell_type": "code",
   "execution_count": 572,
   "metadata": {},
   "outputs": [
    {
     "data": {
      "text/html": [
       "<div>\n",
       "<style scoped>\n",
       "    .dataframe tbody tr th:only-of-type {\n",
       "        vertical-align: middle;\n",
       "    }\n",
       "\n",
       "    .dataframe tbody tr th {\n",
       "        vertical-align: top;\n",
       "    }\n",
       "\n",
       "    .dataframe thead th {\n",
       "        text-align: right;\n",
       "    }\n",
       "</style>\n",
       "<table border=\"1\" class=\"dataframe\">\n",
       "  <thead>\n",
       "    <tr style=\"text-align: right;\">\n",
       "      <th></th>\n",
       "      <th>category</th>\n",
       "      <th>tech1</th>\n",
       "      <th>description</th>\n",
       "      <th>fit</th>\n",
       "      <th>title</th>\n",
       "      <th>also_buy</th>\n",
       "      <th>tech2</th>\n",
       "      <th>brand</th>\n",
       "      <th>feature</th>\n",
       "      <th>rank</th>\n",
       "      <th>also_view</th>\n",
       "      <th>details</th>\n",
       "      <th>main_cat</th>\n",
       "      <th>similar_item</th>\n",
       "      <th>date</th>\n",
       "      <th>price</th>\n",
       "      <th>asin</th>\n",
       "      <th>imageURL</th>\n",
       "      <th>imageURLHighRes</th>\n",
       "    </tr>\n",
       "  </thead>\n",
       "  <tbody>\n",
       "    <tr>\n",
       "      <th>0</th>\n",
       "      <td>[]</td>\n",
       "      <td></td>\n",
       "      <td>[Loud 'N Clear Personal Sound Amplifier allows...</td>\n",
       "      <td></td>\n",
       "      <td>Loud 'N Clear&amp;trade; Personal Sound Amplifier</td>\n",
       "      <td>[]</td>\n",
       "      <td></td>\n",
       "      <td>idea village</td>\n",
       "      <td>[]</td>\n",
       "      <td>2,938,573 in Beauty &amp; Personal Care (</td>\n",
       "      <td>[]</td>\n",
       "      <td>{'ASIN: ': '6546546450'}</td>\n",
       "      <td>All Beauty</td>\n",
       "      <td></td>\n",
       "      <td></td>\n",
       "      <td></td>\n",
       "      <td>6546546450</td>\n",
       "      <td>[]</td>\n",
       "      <td>[]</td>\n",
       "    </tr>\n",
       "    <tr>\n",
       "      <th>1</th>\n",
       "      <td>[]</td>\n",
       "      <td></td>\n",
       "      <td>[No7 Lift &amp; Luminate Triple Action Serum 50ml ...</td>\n",
       "      <td></td>\n",
       "      <td>No7 Lift &amp;amp; Luminate Triple Action Serum 50...</td>\n",
       "      <td>[B01E7LCSL6, B008X5RVME]</td>\n",
       "      <td></td>\n",
       "      <td></td>\n",
       "      <td>[]</td>\n",
       "      <td>872,854 in Beauty &amp; Personal Care (</td>\n",
       "      <td>[]</td>\n",
       "      <td>{'Shipping Weight:': '0.3 ounces (', 'ASIN: ':...</td>\n",
       "      <td>All Beauty</td>\n",
       "      <td>class=\"a-bordered a-horizontal-stripes  a-spa...</td>\n",
       "      <td></td>\n",
       "      <td>$44.99</td>\n",
       "      <td>7178680776</td>\n",
       "      <td>[]</td>\n",
       "      <td>[]</td>\n",
       "    </tr>\n",
       "    <tr>\n",
       "      <th>2</th>\n",
       "      <td>[]</td>\n",
       "      <td></td>\n",
       "      <td>[No7 Stay Perfect Foundation now stays perfect...</td>\n",
       "      <td></td>\n",
       "      <td>No7 Stay Perfect Foundation Cool Vanilla by No7</td>\n",
       "      <td>[]</td>\n",
       "      <td></td>\n",
       "      <td>No7</td>\n",
       "      <td>[]</td>\n",
       "      <td>956,696 in Beauty &amp; Personal Care (</td>\n",
       "      <td>[B01B8BR0O8, B01B8BR0NO, B014MHXXM8]</td>\n",
       "      <td>{'Shipping Weight:': '3.5 ounces (', 'ASIN: ':...</td>\n",
       "      <td>All Beauty</td>\n",
       "      <td></td>\n",
       "      <td></td>\n",
       "      <td>$28.76</td>\n",
       "      <td>7250468162</td>\n",
       "      <td>[]</td>\n",
       "      <td>[]</td>\n",
       "    </tr>\n",
       "    <tr>\n",
       "      <th>3</th>\n",
       "      <td>[]</td>\n",
       "      <td></td>\n",
       "      <td>[]</td>\n",
       "      <td></td>\n",
       "      <td>Wella Koleston Perfect Hair Colour 44/44 Mediu...</td>\n",
       "      <td>[B0041PBXX8]</td>\n",
       "      <td></td>\n",
       "      <td></td>\n",
       "      <td>[]</td>\n",
       "      <td>1,870,258 in Beauty &amp; Personal Care (</td>\n",
       "      <td>[]</td>\n",
       "      <td>{'\n",
       "    Item Weight: \n",
       "    ': '1.76 ounces', 'Sh...</td>\n",
       "      <td>All Beauty</td>\n",
       "      <td></td>\n",
       "      <td></td>\n",
       "      <td></td>\n",
       "      <td>7367905066</td>\n",
       "      <td>[https://images-na.ssl-images-amazon.com/image...</td>\n",
       "      <td>[https://images-na.ssl-images-amazon.com/image...</td>\n",
       "    </tr>\n",
       "    <tr>\n",
       "      <th>4</th>\n",
       "      <td>[]</td>\n",
       "      <td></td>\n",
       "      <td>[Lacto Calamine Skin Balance Daily Nourishing ...</td>\n",
       "      <td></td>\n",
       "      <td>Lacto Calamine Skin Balance Oil control 120 ml...</td>\n",
       "      <td>[]</td>\n",
       "      <td></td>\n",
       "      <td>Pirmal Healthcare</td>\n",
       "      <td>[]</td>\n",
       "      <td>67,701 in Beauty &amp; Personal Care (</td>\n",
       "      <td>[3254895630, B007VL1D9S, B00EH9A0RI, B0773MBG4...</td>\n",
       "      <td>{'Shipping Weight:': '12 ounces (', 'ASIN: ': ...</td>\n",
       "      <td>All Beauty</td>\n",
       "      <td></td>\n",
       "      <td></td>\n",
       "      <td>$12.15</td>\n",
       "      <td>7414204790</td>\n",
       "      <td>[https://images-na.ssl-images-amazon.com/image...</td>\n",
       "      <td>[https://images-na.ssl-images-amazon.com/image...</td>\n",
       "    </tr>\n",
       "  </tbody>\n",
       "</table>\n",
       "</div>"
      ],
      "text/plain": [
       "  category tech1                                        description fit  \\\n",
       "0       []        [Loud 'N Clear Personal Sound Amplifier allows...       \n",
       "1       []        [No7 Lift & Luminate Triple Action Serum 50ml ...       \n",
       "2       []        [No7 Stay Perfect Foundation now stays perfect...       \n",
       "3       []                                                       []       \n",
       "4       []        [Lacto Calamine Skin Balance Daily Nourishing ...       \n",
       "\n",
       "                                               title  \\\n",
       "0      Loud 'N Clear&trade; Personal Sound Amplifier   \n",
       "1  No7 Lift &amp; Luminate Triple Action Serum 50...   \n",
       "2    No7 Stay Perfect Foundation Cool Vanilla by No7   \n",
       "3  Wella Koleston Perfect Hair Colour 44/44 Mediu...   \n",
       "4  Lacto Calamine Skin Balance Oil control 120 ml...   \n",
       "\n",
       "                   also_buy tech2              brand feature  \\\n",
       "0                        []             idea village      []   \n",
       "1  [B01E7LCSL6, B008X5RVME]                               []   \n",
       "2                        []                      No7      []   \n",
       "3              [B0041PBXX8]                               []   \n",
       "4                        []        Pirmal Healthcare      []   \n",
       "\n",
       "                                    rank  \\\n",
       "0  2,938,573 in Beauty & Personal Care (   \n",
       "1    872,854 in Beauty & Personal Care (   \n",
       "2    956,696 in Beauty & Personal Care (   \n",
       "3  1,870,258 in Beauty & Personal Care (   \n",
       "4     67,701 in Beauty & Personal Care (   \n",
       "\n",
       "                                           also_view  \\\n",
       "0                                                 []   \n",
       "1                                                 []   \n",
       "2               [B01B8BR0O8, B01B8BR0NO, B014MHXXM8]   \n",
       "3                                                 []   \n",
       "4  [3254895630, B007VL1D9S, B00EH9A0RI, B0773MBG4...   \n",
       "\n",
       "                                             details    main_cat  \\\n",
       "0                           {'ASIN: ': '6546546450'}  All Beauty   \n",
       "1  {'Shipping Weight:': '0.3 ounces (', 'ASIN: ':...  All Beauty   \n",
       "2  {'Shipping Weight:': '3.5 ounces (', 'ASIN: ':...  All Beauty   \n",
       "3  {'\n",
       "    Item Weight: \n",
       "    ': '1.76 ounces', 'Sh...  All Beauty   \n",
       "4  {'Shipping Weight:': '12 ounces (', 'ASIN: ': ...  All Beauty   \n",
       "\n",
       "                                        similar_item date   price        asin  \\\n",
       "0                                                                  6546546450   \n",
       "1   class=\"a-bordered a-horizontal-stripes  a-spa...       $44.99  7178680776   \n",
       "2                                                          $28.76  7250468162   \n",
       "3                                                                  7367905066   \n",
       "4                                                          $12.15  7414204790   \n",
       "\n",
       "                                            imageURL  \\\n",
       "0                                                 []   \n",
       "1                                                 []   \n",
       "2                                                 []   \n",
       "3  [https://images-na.ssl-images-amazon.com/image...   \n",
       "4  [https://images-na.ssl-images-amazon.com/image...   \n",
       "\n",
       "                                     imageURLHighRes  \n",
       "0                                                 []  \n",
       "1                                                 []  \n",
       "2                                                 []  \n",
       "3  [https://images-na.ssl-images-amazon.com/image...  \n",
       "4  [https://images-na.ssl-images-amazon.com/image...  "
      ]
     },
     "execution_count": 572,
     "metadata": {},
     "output_type": "execute_result"
    }
   ],
   "source": [
    "meta_All_Beauty_df.head(5)"
   ]
  },
  {
   "cell_type": "code",
   "execution_count": 573,
   "metadata": {},
   "outputs": [
    {
     "data": {
      "text/plain": [
       "Index(['category', 'tech1', 'description', 'fit', 'title', 'also_buy', 'tech2',\n",
       "       'brand', 'feature', 'rank', 'also_view', 'details', 'main_cat',\n",
       "       'similar_item', 'date', 'price', 'asin', 'imageURL', 'imageURLHighRes'],\n",
       "      dtype='object')"
      ]
     },
     "execution_count": 573,
     "metadata": {},
     "output_type": "execute_result"
    }
   ],
   "source": [
    "meta_All_Beauty_df.columns"
   ]
  },
  {
   "cell_type": "markdown",
   "metadata": {},
   "source": [
    "2. 在此份資料當中，擁有最多品項的前三名品牌為？"
   ]
  },
  {
   "cell_type": "code",
   "execution_count": 574,
   "metadata": {},
   "outputs": [
    {
     "data": {
      "text/plain": [
       "                   15673\n",
       "VAGA                 252\n",
       "L'Oreal Paris        113\n",
       "Philips Norelco       88\n",
       "Name: brand, dtype: int64"
      ]
     },
     "execution_count": 574,
     "metadata": {},
     "output_type": "execute_result"
    }
   ],
   "source": [
    "# Find the top-3 best seller\n",
    "meta_All_Beauty_df['brand'].value_counts().head(4)"
   ]
  },
  {
   "cell_type": "markdown",
   "metadata": {},
   "source": [
    "<font size=5> Q2. 清理資料＆調整格式 </font>"
   ]
  },
  {
   "cell_type": "markdown",
   "metadata": {},
   "source": [
    "1. 移除資料中不必要的欄位，只留下\n",
    "<mark style=background-color:grey><font color=red > 'asin' </font></mark>,\n",
    "<mark style=background-color:grey><font color=red > 'brand' </font></mark>,\n",
    "<mark style=background-color:grey><font color=red > 'title' </font></mark>,\n",
    "<mark style=background-color:grey><font color=red > 'price' </font></mark>,\n",
    "<mark style=background-color:grey><font color=red > 'rank' </font></mark>,\n",
    "<mark style=background-color:grey><font color=red > 'description' </font></mark>\n"
   ]
  },
  {
   "cell_type": "code",
   "execution_count": 575,
   "metadata": {},
   "outputs": [
    {
     "data": {
      "text/html": [
       "<div>\n",
       "<style scoped>\n",
       "    .dataframe tbody tr th:only-of-type {\n",
       "        vertical-align: middle;\n",
       "    }\n",
       "\n",
       "    .dataframe tbody tr th {\n",
       "        vertical-align: top;\n",
       "    }\n",
       "\n",
       "    .dataframe thead th {\n",
       "        text-align: right;\n",
       "    }\n",
       "</style>\n",
       "<table border=\"1\" class=\"dataframe\">\n",
       "  <thead>\n",
       "    <tr style=\"text-align: right;\">\n",
       "      <th></th>\n",
       "      <th>asin</th>\n",
       "      <th>brand</th>\n",
       "      <th>title</th>\n",
       "      <th>price</th>\n",
       "      <th>rank</th>\n",
       "      <th>description</th>\n",
       "    </tr>\n",
       "  </thead>\n",
       "  <tbody>\n",
       "    <tr>\n",
       "      <th>0</th>\n",
       "      <td>6546546450</td>\n",
       "      <td>idea village</td>\n",
       "      <td>Loud 'N Clear&amp;trade; Personal Sound Amplifier</td>\n",
       "      <td></td>\n",
       "      <td>2,938,573 in Beauty &amp; Personal Care (</td>\n",
       "      <td>[Loud 'N Clear Personal Sound Amplifier allows...</td>\n",
       "    </tr>\n",
       "    <tr>\n",
       "      <th>1</th>\n",
       "      <td>7178680776</td>\n",
       "      <td></td>\n",
       "      <td>No7 Lift &amp;amp; Luminate Triple Action Serum 50...</td>\n",
       "      <td>$44.99</td>\n",
       "      <td>872,854 in Beauty &amp; Personal Care (</td>\n",
       "      <td>[No7 Lift &amp; Luminate Triple Action Serum 50ml ...</td>\n",
       "    </tr>\n",
       "    <tr>\n",
       "      <th>2</th>\n",
       "      <td>7250468162</td>\n",
       "      <td>No7</td>\n",
       "      <td>No7 Stay Perfect Foundation Cool Vanilla by No7</td>\n",
       "      <td>$28.76</td>\n",
       "      <td>956,696 in Beauty &amp; Personal Care (</td>\n",
       "      <td>[No7 Stay Perfect Foundation now stays perfect...</td>\n",
       "    </tr>\n",
       "    <tr>\n",
       "      <th>3</th>\n",
       "      <td>7367905066</td>\n",
       "      <td></td>\n",
       "      <td>Wella Koleston Perfect Hair Colour 44/44 Mediu...</td>\n",
       "      <td></td>\n",
       "      <td>1,870,258 in Beauty &amp; Personal Care (</td>\n",
       "      <td>[]</td>\n",
       "    </tr>\n",
       "    <tr>\n",
       "      <th>4</th>\n",
       "      <td>7414204790</td>\n",
       "      <td>Pirmal Healthcare</td>\n",
       "      <td>Lacto Calamine Skin Balance Oil control 120 ml...</td>\n",
       "      <td>$12.15</td>\n",
       "      <td>67,701 in Beauty &amp; Personal Care (</td>\n",
       "      <td>[Lacto Calamine Skin Balance Daily Nourishing ...</td>\n",
       "    </tr>\n",
       "  </tbody>\n",
       "</table>\n",
       "</div>"
      ],
      "text/plain": [
       "         asin              brand  \\\n",
       "0  6546546450       idea village   \n",
       "1  7178680776                      \n",
       "2  7250468162                No7   \n",
       "3  7367905066                      \n",
       "4  7414204790  Pirmal Healthcare   \n",
       "\n",
       "                                               title   price  \\\n",
       "0      Loud 'N Clear&trade; Personal Sound Amplifier           \n",
       "1  No7 Lift &amp; Luminate Triple Action Serum 50...  $44.99   \n",
       "2    No7 Stay Perfect Foundation Cool Vanilla by No7  $28.76   \n",
       "3  Wella Koleston Perfect Hair Colour 44/44 Mediu...           \n",
       "4  Lacto Calamine Skin Balance Oil control 120 ml...  $12.15   \n",
       "\n",
       "                                    rank  \\\n",
       "0  2,938,573 in Beauty & Personal Care (   \n",
       "1    872,854 in Beauty & Personal Care (   \n",
       "2    956,696 in Beauty & Personal Care (   \n",
       "3  1,870,258 in Beauty & Personal Care (   \n",
       "4     67,701 in Beauty & Personal Care (   \n",
       "\n",
       "                                         description  \n",
       "0  [Loud 'N Clear Personal Sound Amplifier allows...  \n",
       "1  [No7 Lift & Luminate Triple Action Serum 50ml ...  \n",
       "2  [No7 Stay Perfect Foundation now stays perfect...  \n",
       "3                                                 []  \n",
       "4  [Lacto Calamine Skin Balance Daily Nourishing ...  "
      ]
     },
     "execution_count": 575,
     "metadata": {},
     "output_type": "execute_result"
    }
   ],
   "source": [
    "meta_All_Beauty_df[['asin', 'brand', 'title', 'price', 'rank', 'description']].head(5)"
   ]
  },
  {
   "cell_type": "markdown",
   "metadata": {},
   "source": [
    "2. 將銷售排名\n",
    "<mark style=background-color:grey><font color=red > 'rank'</font></mark>\n",
    "中的排名字串抽取出來、轉為數字"
   ]
  },
  {
   "cell_type": "code",
   "execution_count": 576,
   "metadata": {},
   "outputs": [
    {
     "data": {
      "text/plain": [
       "0    2,938,573 in Beauty & Personal Care (\n",
       "1      872,854 in Beauty & Personal Care (\n",
       "2      956,696 in Beauty & Personal Care (\n",
       "3    1,870,258 in Beauty & Personal Care (\n",
       "4       67,701 in Beauty & Personal Care (\n",
       "Name: rank, dtype: object"
      ]
     },
     "execution_count": 576,
     "metadata": {},
     "output_type": "execute_result"
    }
   ],
   "source": [
    "meta_All_Beauty_df['rank'].head(5)"
   ]
  },
  {
   "cell_type": "code",
   "execution_count": 577,
   "metadata": {},
   "outputs": [],
   "source": [
    "# Create a new column 'rankNum'\n",
    "meta_All_Beauty_df.insert(5,'rankNum', '')"
   ]
  },
  {
   "cell_type": "code",
   "execution_count": 578,
   "metadata": {},
   "outputs": [
    {
     "data": {
      "text/plain": [
       "0    2938573.0\n",
       "1     872854.0\n",
       "2     956696.0\n",
       "3    1870258.0\n",
       "4      67701.0\n",
       "Name: rankNum, dtype: float64"
      ]
     },
     "execution_count": 578,
     "metadata": {},
     "output_type": "execute_result"
    }
   ],
   "source": [
    "# Extract the number\n",
    "meta_All_Beauty_df['rankNum'] = meta_All_Beauty_df['rank'].str.extract(pat = \"((\\d{1,3})(,\\d\\d\\d)*)\")[0]\n",
    "\n",
    "# Remove comma (,)\n",
    "meta_All_Beauty_df['rankNum'] = meta_All_Beauty_df['rankNum'].str.replace(',', '')\n",
    "meta_All_Beauty_df['rankNum'] = pd.to_numeric(meta_All_Beauty_df['rankNum'])\n",
    "meta_All_Beauty_df['rankNum'].head(5)"
   ]
  },
  {
   "cell_type": "markdown",
   "metadata": {},
   "source": [
    "**<font size=3> 請回答： </font>**"
   ]
  },
  {
   "cell_type": "markdown",
   "metadata": {},
   "source": [
    "1. 找到資料中銷售排名最高的產品是第幾名？\n",
    "2. 最高銷售排名的產品為何？"
   ]
  },
  {
   "cell_type": "code",
   "execution_count": 579,
   "metadata": {},
   "outputs": [
    {
     "data": {
      "text/html": [
       "<div>\n",
       "<style scoped>\n",
       "    .dataframe tbody tr th:only-of-type {\n",
       "        vertical-align: middle;\n",
       "    }\n",
       "\n",
       "    .dataframe tbody tr th {\n",
       "        vertical-align: top;\n",
       "    }\n",
       "\n",
       "    .dataframe thead th {\n",
       "        text-align: right;\n",
       "    }\n",
       "</style>\n",
       "<table border=\"1\" class=\"dataframe\">\n",
       "  <thead>\n",
       "    <tr style=\"text-align: right;\">\n",
       "      <th></th>\n",
       "      <th>title</th>\n",
       "      <th>rankNum</th>\n",
       "    </tr>\n",
       "  </thead>\n",
       "  <tbody>\n",
       "    <tr>\n",
       "      <th>8540</th>\n",
       "      <td>Braun Clean &amp;amp; Renew Refill Cartridges CCR,...</td>\n",
       "      <td>35.0</td>\n",
       "    </tr>\n",
       "    <tr>\n",
       "      <th>6268</th>\n",
       "      <td>Aquaphor Healing Ointment,Advanced Therapy Ski...</td>\n",
       "      <td>65.0</td>\n",
       "    </tr>\n",
       "    <tr>\n",
       "      <th>12028</th>\n",
       "      <td>Astra Platinum Double Edge Safety Razor Blades...</td>\n",
       "      <td>245.0</td>\n",
       "    </tr>\n",
       "    <tr>\n",
       "      <th>3606</th>\n",
       "      <td>Astra Platinum Double Edge Safety Razor Blades...</td>\n",
       "      <td>280.0</td>\n",
       "    </tr>\n",
       "    <tr>\n",
       "      <th>481</th>\n",
       "      <td>Panasonic Bikini Shaper and Trimmer for Women ...</td>\n",
       "      <td>457.0</td>\n",
       "    </tr>\n",
       "  </tbody>\n",
       "</table>\n",
       "</div>"
      ],
      "text/plain": [
       "                                                   title  rankNum\n",
       "8540   Braun Clean &amp; Renew Refill Cartridges CCR,...     35.0\n",
       "6268   Aquaphor Healing Ointment,Advanced Therapy Ski...     65.0\n",
       "12028  Astra Platinum Double Edge Safety Razor Blades...    245.0\n",
       "3606   Astra Platinum Double Edge Safety Razor Blades...    280.0\n",
       "481    Panasonic Bikini Shaper and Trimmer for Women ...    457.0"
      ]
     },
     "execution_count": 579,
     "metadata": {},
     "output_type": "execute_result"
    }
   ],
   "source": [
    "# Find the product with the highest ranking\n",
    "meta_All_Beauty_df.sort_values(by='rankNum', ascending=True)[['title', 'rankNum']].head(5)"
   ]
  },
  {
   "cell_type": "markdown",
   "metadata": {},
   "source": [
    "<font color=white size=6><mark style=background-color:grey> Part 2 問題 </mark></font>"
   ]
  },
  {
   "cell_type": "markdown",
   "metadata": {},
   "source": [
    "<font size=5> Q3. 聚合資料 </font>"
   ]
  },
  {
   "cell_type": "markdown",
   "metadata": {},
   "source": [
    "pandas 載入美妝品的評價資料"
   ]
  },
  {
   "cell_type": "code",
   "execution_count": 580,
   "metadata": {},
   "outputs": [
    {
     "name": "stdout",
     "output_type": "stream",
     "text": [
      "Reading...  /Users/ianlin/Desktop/AlphaCampPractice/data/All_Beauty.json.gz\n",
      "Done\n"
     ]
    }
   ],
   "source": [
    "# Read _JSON\n",
    "dataFile_path = os.getcwd() + '/data/All_Beauty.json.gz'\n",
    "print('Reading... ', dataFile_path)\n",
    "All_Beauty_df = pd.read_json(dataFile_path, lines=True, compression='gzip')\n",
    "print('Done')"
   ]
  },
  {
   "cell_type": "code",
   "execution_count": 581,
   "metadata": {},
   "outputs": [
    {
     "data": {
      "text/html": [
       "<div>\n",
       "<style scoped>\n",
       "    .dataframe tbody tr th:only-of-type {\n",
       "        vertical-align: middle;\n",
       "    }\n",
       "\n",
       "    .dataframe tbody tr th {\n",
       "        vertical-align: top;\n",
       "    }\n",
       "\n",
       "    .dataframe thead th {\n",
       "        text-align: right;\n",
       "    }\n",
       "</style>\n",
       "<table border=\"1\" class=\"dataframe\">\n",
       "  <thead>\n",
       "    <tr style=\"text-align: right;\">\n",
       "      <th></th>\n",
       "      <th>overall</th>\n",
       "      <th>verified</th>\n",
       "      <th>reviewTime</th>\n",
       "      <th>reviewerID</th>\n",
       "      <th>asin</th>\n",
       "      <th>reviewerName</th>\n",
       "      <th>reviewText</th>\n",
       "      <th>summary</th>\n",
       "      <th>unixReviewTime</th>\n",
       "      <th>vote</th>\n",
       "      <th>style</th>\n",
       "      <th>image</th>\n",
       "    </tr>\n",
       "  </thead>\n",
       "  <tbody>\n",
       "    <tr>\n",
       "      <th>0</th>\n",
       "      <td>1</td>\n",
       "      <td>True</td>\n",
       "      <td>02 19, 2015</td>\n",
       "      <td>A1V6B6TNIC10QE</td>\n",
       "      <td>0143026860</td>\n",
       "      <td>theodore j bigham</td>\n",
       "      <td>great</td>\n",
       "      <td>One Star</td>\n",
       "      <td>1424304000</td>\n",
       "      <td>NaN</td>\n",
       "      <td>NaN</td>\n",
       "      <td>NaN</td>\n",
       "    </tr>\n",
       "    <tr>\n",
       "      <th>1</th>\n",
       "      <td>4</td>\n",
       "      <td>True</td>\n",
       "      <td>12 18, 2014</td>\n",
       "      <td>A2F5GHSXFQ0W6J</td>\n",
       "      <td>0143026860</td>\n",
       "      <td>Mary K. Byke</td>\n",
       "      <td>My  husband wanted to reading about the Negro ...</td>\n",
       "      <td>... to reading about the Negro Baseball and th...</td>\n",
       "      <td>1418860800</td>\n",
       "      <td>NaN</td>\n",
       "      <td>NaN</td>\n",
       "      <td>NaN</td>\n",
       "    </tr>\n",
       "    <tr>\n",
       "      <th>2</th>\n",
       "      <td>4</td>\n",
       "      <td>True</td>\n",
       "      <td>08 10, 2014</td>\n",
       "      <td>A1572GUYS7DGSR</td>\n",
       "      <td>0143026860</td>\n",
       "      <td>David G</td>\n",
       "      <td>This book was very informative, covering all a...</td>\n",
       "      <td>Worth the Read</td>\n",
       "      <td>1407628800</td>\n",
       "      <td>NaN</td>\n",
       "      <td>NaN</td>\n",
       "      <td>NaN</td>\n",
       "    </tr>\n",
       "    <tr>\n",
       "      <th>3</th>\n",
       "      <td>5</td>\n",
       "      <td>True</td>\n",
       "      <td>03 11, 2013</td>\n",
       "      <td>A1PSGLFK1NSVO</td>\n",
       "      <td>0143026860</td>\n",
       "      <td>TamB</td>\n",
       "      <td>I am already a baseball fan and knew a bit abo...</td>\n",
       "      <td>Good Read</td>\n",
       "      <td>1362960000</td>\n",
       "      <td>NaN</td>\n",
       "      <td>NaN</td>\n",
       "      <td>NaN</td>\n",
       "    </tr>\n",
       "    <tr>\n",
       "      <th>4</th>\n",
       "      <td>5</td>\n",
       "      <td>True</td>\n",
       "      <td>12 25, 2011</td>\n",
       "      <td>A6IKXKZMTKGSC</td>\n",
       "      <td>0143026860</td>\n",
       "      <td>shoecanary</td>\n",
       "      <td>This was a good story of the Black leagues. I ...</td>\n",
       "      <td>More than facts, a good story read!</td>\n",
       "      <td>1324771200</td>\n",
       "      <td>5</td>\n",
       "      <td>NaN</td>\n",
       "      <td>NaN</td>\n",
       "    </tr>\n",
       "    <tr>\n",
       "      <th>5</th>\n",
       "      <td>5</td>\n",
       "      <td>False</td>\n",
       "      <td>02 26, 2010</td>\n",
       "      <td>A36NF437WZLQ9E</td>\n",
       "      <td>0143026860</td>\n",
       "      <td>W. Powell</td>\n",
       "      <td>Today I gave a book about the Negro Leagues of...</td>\n",
       "      <td>The Gift of Black Baseball</td>\n",
       "      <td>1267142400</td>\n",
       "      <td>4</td>\n",
       "      <td>NaN</td>\n",
       "      <td>NaN</td>\n",
       "    </tr>\n",
       "    <tr>\n",
       "      <th>6</th>\n",
       "      <td>4</td>\n",
       "      <td>False</td>\n",
       "      <td>03 7, 2001</td>\n",
       "      <td>A10Q8NIFOVOHFV</td>\n",
       "      <td>0143026860</td>\n",
       "      <td>Robert S. Clay Jr.</td>\n",
       "      <td>The story of race relations in American histor...</td>\n",
       "      <td>Baseball, America, and racism.</td>\n",
       "      <td>983923200</td>\n",
       "      <td>14</td>\n",
       "      <td>NaN</td>\n",
       "      <td>NaN</td>\n",
       "    </tr>\n",
       "    <tr>\n",
       "      <th>7</th>\n",
       "      <td>1</td>\n",
       "      <td>True</td>\n",
       "      <td>04 10, 2017</td>\n",
       "      <td>A26PO1B2Q2G1CS</td>\n",
       "      <td>014789302X</td>\n",
       "      <td>Jacqueline Diaz</td>\n",
       "      <td>I didn't like this product it smudged all unde...</td>\n",
       "      <td>One Star</td>\n",
       "      <td>1491782400</td>\n",
       "      <td>NaN</td>\n",
       "      <td>NaN</td>\n",
       "      <td>NaN</td>\n",
       "    </tr>\n",
       "    <tr>\n",
       "      <th>8</th>\n",
       "      <td>5</td>\n",
       "      <td>True</td>\n",
       "      <td>01 3, 2017</td>\n",
       "      <td>AQ812VYVTC2RJ</td>\n",
       "      <td>014789302X</td>\n",
       "      <td>Khadijah Ali-Evans</td>\n",
       "      <td>I simply love the product. I appreciate print ...</td>\n",
       "      <td>Five Stars</td>\n",
       "      <td>1483401600</td>\n",
       "      <td>NaN</td>\n",
       "      <td>NaN</td>\n",
       "      <td>NaN</td>\n",
       "    </tr>\n",
       "    <tr>\n",
       "      <th>9</th>\n",
       "      <td>1</td>\n",
       "      <td>True</td>\n",
       "      <td>11 19, 2016</td>\n",
       "      <td>AMACNEW14ADMX</td>\n",
       "      <td>014789302X</td>\n",
       "      <td>rabiyaa123</td>\n",
       "      <td>it burns your eyes when u put it on  and very ...</td>\n",
       "      <td>i do not recommend.</td>\n",
       "      <td>1479513600</td>\n",
       "      <td>3</td>\n",
       "      <td>NaN</td>\n",
       "      <td>NaN</td>\n",
       "    </tr>\n",
       "  </tbody>\n",
       "</table>\n",
       "</div>"
      ],
      "text/plain": [
       "   overall  verified   reviewTime      reviewerID        asin  \\\n",
       "0        1      True  02 19, 2015  A1V6B6TNIC10QE  0143026860   \n",
       "1        4      True  12 18, 2014  A2F5GHSXFQ0W6J  0143026860   \n",
       "2        4      True  08 10, 2014  A1572GUYS7DGSR  0143026860   \n",
       "3        5      True  03 11, 2013   A1PSGLFK1NSVO  0143026860   \n",
       "4        5      True  12 25, 2011   A6IKXKZMTKGSC  0143026860   \n",
       "5        5     False  02 26, 2010  A36NF437WZLQ9E  0143026860   \n",
       "6        4     False   03 7, 2001  A10Q8NIFOVOHFV  0143026860   \n",
       "7        1      True  04 10, 2017  A26PO1B2Q2G1CS  014789302X   \n",
       "8        5      True   01 3, 2017   AQ812VYVTC2RJ  014789302X   \n",
       "9        1      True  11 19, 2016   AMACNEW14ADMX  014789302X   \n",
       "\n",
       "         reviewerName                                         reviewText  \\\n",
       "0   theodore j bigham                                              great   \n",
       "1        Mary K. Byke  My  husband wanted to reading about the Negro ...   \n",
       "2             David G  This book was very informative, covering all a...   \n",
       "3                TamB  I am already a baseball fan and knew a bit abo...   \n",
       "4          shoecanary  This was a good story of the Black leagues. I ...   \n",
       "5           W. Powell  Today I gave a book about the Negro Leagues of...   \n",
       "6  Robert S. Clay Jr.  The story of race relations in American histor...   \n",
       "7     Jacqueline Diaz  I didn't like this product it smudged all unde...   \n",
       "8  Khadijah Ali-Evans  I simply love the product. I appreciate print ...   \n",
       "9          rabiyaa123  it burns your eyes when u put it on  and very ...   \n",
       "\n",
       "                                             summary  unixReviewTime vote  \\\n",
       "0                                           One Star      1424304000  NaN   \n",
       "1  ... to reading about the Negro Baseball and th...      1418860800  NaN   \n",
       "2                                     Worth the Read      1407628800  NaN   \n",
       "3                                          Good Read      1362960000  NaN   \n",
       "4                More than facts, a good story read!      1324771200    5   \n",
       "5                         The Gift of Black Baseball      1267142400    4   \n",
       "6                     Baseball, America, and racism.       983923200   14   \n",
       "7                                           One Star      1491782400  NaN   \n",
       "8                                         Five Stars      1483401600  NaN   \n",
       "9                                i do not recommend.      1479513600    3   \n",
       "\n",
       "  style image  \n",
       "0   NaN   NaN  \n",
       "1   NaN   NaN  \n",
       "2   NaN   NaN  \n",
       "3   NaN   NaN  \n",
       "4   NaN   NaN  \n",
       "5   NaN   NaN  \n",
       "6   NaN   NaN  \n",
       "7   NaN   NaN  \n",
       "8   NaN   NaN  \n",
       "9   NaN   NaN  "
      ]
     },
     "execution_count": 581,
     "metadata": {},
     "output_type": "execute_result"
    }
   ],
   "source": [
    "All_Beauty_df.head(10)"
   ]
  },
  {
   "cell_type": "code",
   "execution_count": 582,
   "metadata": {},
   "outputs": [
    {
     "data": {
      "text/plain": [
       "(371345, 12)"
      ]
     },
     "execution_count": 582,
     "metadata": {},
     "output_type": "execute_result"
    }
   ],
   "source": [
    "# Check the shape\n",
    "All_Beauty_df.shape"
   ]
  },
  {
   "cell_type": "code",
   "execution_count": 583,
   "metadata": {},
   "outputs": [
    {
     "data": {
      "text/plain": [
       "Index(['overall', 'verified', 'reviewTime', 'reviewerID', 'asin',\n",
       "       'reviewerName', 'reviewText', 'summary', 'unixReviewTime', 'vote',\n",
       "       'style', 'image'],\n",
       "      dtype='object')"
      ]
     },
     "execution_count": 583,
     "metadata": {},
     "output_type": "execute_result"
    }
   ],
   "source": [
    "# Check the columns\n",
    "All_Beauty_df.columns"
   ]
  },
  {
   "cell_type": "code",
   "execution_count": 584,
   "metadata": {},
   "outputs": [
    {
     "data": {
      "text/html": [
       "<div>\n",
       "<style scoped>\n",
       "    .dataframe tbody tr th:only-of-type {\n",
       "        vertical-align: middle;\n",
       "    }\n",
       "\n",
       "    .dataframe tbody tr th {\n",
       "        vertical-align: top;\n",
       "    }\n",
       "\n",
       "    .dataframe thead th {\n",
       "        text-align: right;\n",
       "    }\n",
       "</style>\n",
       "<table border=\"1\" class=\"dataframe\">\n",
       "  <thead>\n",
       "    <tr style=\"text-align: right;\">\n",
       "      <th></th>\n",
       "      <th>overall</th>\n",
       "      <th>verified</th>\n",
       "      <th>asin</th>\n",
       "      <th>reviewText</th>\n",
       "      <th>summary</th>\n",
       "      <th>vote</th>\n",
       "    </tr>\n",
       "  </thead>\n",
       "  <tbody>\n",
       "    <tr>\n",
       "      <th>0</th>\n",
       "      <td>1</td>\n",
       "      <td>True</td>\n",
       "      <td>0143026860</td>\n",
       "      <td>great</td>\n",
       "      <td>One Star</td>\n",
       "      <td>NaN</td>\n",
       "    </tr>\n",
       "    <tr>\n",
       "      <th>1</th>\n",
       "      <td>4</td>\n",
       "      <td>True</td>\n",
       "      <td>0143026860</td>\n",
       "      <td>My  husband wanted to reading about the Negro ...</td>\n",
       "      <td>... to reading about the Negro Baseball and th...</td>\n",
       "      <td>NaN</td>\n",
       "    </tr>\n",
       "    <tr>\n",
       "      <th>2</th>\n",
       "      <td>4</td>\n",
       "      <td>True</td>\n",
       "      <td>0143026860</td>\n",
       "      <td>This book was very informative, covering all a...</td>\n",
       "      <td>Worth the Read</td>\n",
       "      <td>NaN</td>\n",
       "    </tr>\n",
       "    <tr>\n",
       "      <th>3</th>\n",
       "      <td>5</td>\n",
       "      <td>True</td>\n",
       "      <td>0143026860</td>\n",
       "      <td>I am already a baseball fan and knew a bit abo...</td>\n",
       "      <td>Good Read</td>\n",
       "      <td>NaN</td>\n",
       "    </tr>\n",
       "    <tr>\n",
       "      <th>4</th>\n",
       "      <td>5</td>\n",
       "      <td>True</td>\n",
       "      <td>0143026860</td>\n",
       "      <td>This was a good story of the Black leagues. I ...</td>\n",
       "      <td>More than facts, a good story read!</td>\n",
       "      <td>5</td>\n",
       "    </tr>\n",
       "    <tr>\n",
       "      <th>5</th>\n",
       "      <td>5</td>\n",
       "      <td>False</td>\n",
       "      <td>0143026860</td>\n",
       "      <td>Today I gave a book about the Negro Leagues of...</td>\n",
       "      <td>The Gift of Black Baseball</td>\n",
       "      <td>4</td>\n",
       "    </tr>\n",
       "    <tr>\n",
       "      <th>6</th>\n",
       "      <td>4</td>\n",
       "      <td>False</td>\n",
       "      <td>0143026860</td>\n",
       "      <td>The story of race relations in American histor...</td>\n",
       "      <td>Baseball, America, and racism.</td>\n",
       "      <td>14</td>\n",
       "    </tr>\n",
       "    <tr>\n",
       "      <th>7</th>\n",
       "      <td>1</td>\n",
       "      <td>True</td>\n",
       "      <td>014789302X</td>\n",
       "      <td>I didn't like this product it smudged all unde...</td>\n",
       "      <td>One Star</td>\n",
       "      <td>NaN</td>\n",
       "    </tr>\n",
       "    <tr>\n",
       "      <th>8</th>\n",
       "      <td>5</td>\n",
       "      <td>True</td>\n",
       "      <td>014789302X</td>\n",
       "      <td>I simply love the product. I appreciate print ...</td>\n",
       "      <td>Five Stars</td>\n",
       "      <td>NaN</td>\n",
       "    </tr>\n",
       "    <tr>\n",
       "      <th>9</th>\n",
       "      <td>1</td>\n",
       "      <td>True</td>\n",
       "      <td>014789302X</td>\n",
       "      <td>it burns your eyes when u put it on  and very ...</td>\n",
       "      <td>i do not recommend.</td>\n",
       "      <td>3</td>\n",
       "    </tr>\n",
       "  </tbody>\n",
       "</table>\n",
       "</div>"
      ],
      "text/plain": [
       "   overall  verified        asin  \\\n",
       "0        1      True  0143026860   \n",
       "1        4      True  0143026860   \n",
       "2        4      True  0143026860   \n",
       "3        5      True  0143026860   \n",
       "4        5      True  0143026860   \n",
       "5        5     False  0143026860   \n",
       "6        4     False  0143026860   \n",
       "7        1      True  014789302X   \n",
       "8        5      True  014789302X   \n",
       "9        1      True  014789302X   \n",
       "\n",
       "                                          reviewText  \\\n",
       "0                                              great   \n",
       "1  My  husband wanted to reading about the Negro ...   \n",
       "2  This book was very informative, covering all a...   \n",
       "3  I am already a baseball fan and knew a bit abo...   \n",
       "4  This was a good story of the Black leagues. I ...   \n",
       "5  Today I gave a book about the Negro Leagues of...   \n",
       "6  The story of race relations in American histor...   \n",
       "7  I didn't like this product it smudged all unde...   \n",
       "8  I simply love the product. I appreciate print ...   \n",
       "9  it burns your eyes when u put it on  and very ...   \n",
       "\n",
       "                                             summary vote  \n",
       "0                                           One Star  NaN  \n",
       "1  ... to reading about the Negro Baseball and th...  NaN  \n",
       "2                                     Worth the Read  NaN  \n",
       "3                                          Good Read  NaN  \n",
       "4                More than facts, a good story read!    5  \n",
       "5                         The Gift of Black Baseball    4  \n",
       "6                     Baseball, America, and racism.   14  \n",
       "7                                           One Star  NaN  \n",
       "8                                         Five Stars  NaN  \n",
       "9                                i do not recommend.    3  "
      ]
     },
     "execution_count": 584,
     "metadata": {},
     "output_type": "execute_result"
    }
   ],
   "source": [
    "# Keep only necessary columns\n",
    "All_Beauty_df[['overall', 'verified', 'asin', 'reviewText', 'summary', 'vote']].head(10)"
   ]
  },
  {
   "cell_type": "markdown",
   "metadata": {},
   "source": [
    "**<font size=3> 請回答： </font>**"
   ]
  },
  {
   "cell_type": "markdown",
   "metadata": {},
   "source": [
    "1. 找到評價數最多的產品其 asin\n",
    "2. 上述產品的評價次數為？"
   ]
  },
  {
   "cell_type": "code",
   "execution_count": 585,
   "metadata": {},
   "outputs": [
    {
     "data": {
      "text/plain": [
       "B000FOI48G    8672\n",
       "B000GLRREU    8341\n",
       "1620213982    4792\n",
       "B001QY8QXM    4544\n",
       "B01DKQAXC0    4246\n",
       "Name: asin, dtype: int64"
      ]
     },
     "execution_count": 585,
     "metadata": {},
     "output_type": "execute_result"
    }
   ],
   "source": [
    "# Find the one with the most reviews\n",
    "All_Beauty_df['asin'].value_counts().head(5)"
   ]
  },
  {
   "cell_type": "markdown",
   "metadata": {},
   "source": [
    "<mark style=background-color:grey><font color=red>\n",
    "Ans: </mark>\n",
    "1. B000FOI48G\n",
    "2. 8672\n",
    "\n",
    "</font>"
   ]
  },
  {
   "cell_type": "markdown",
   "metadata": {},
   "source": [
    "3. 上述產品的平均評價為？"
   ]
  },
  {
   "cell_type": "code",
   "execution_count": 586,
   "metadata": {},
   "outputs": [
    {
     "data": {
      "text/plain": [
       "4.393450184501845"
      ]
     },
     "execution_count": 586,
     "metadata": {},
     "output_type": "execute_result"
    }
   ],
   "source": [
    "All_Beauty_df.groupby(by='asin')['overall'].mean().loc['B000FOI48G']"
   ]
  },
  {
   "cell_type": "markdown",
   "metadata": {},
   "source": [
    "<mark style=background-color:grey><font color=red>\n",
    "Ans: </mark>\n",
    "\n",
    "3. 4.393\n",
    "\n",
    "</font>"
   ]
  },
  {
   "cell_type": "markdown",
   "metadata": {},
   "source": [
    "<font size=5> Q4. 結合兩張表格 </font>"
   ]
  },
  {
   "cell_type": "markdown",
   "metadata": {},
   "source": [
    "將 Q2 取得的產品資料 DataFrame，加入 Q4 的評價資料作為欄位\n",
    "1. `overall_mean` 紀錄產品的平均評分\n",
    "2. `reviews_count` 紀錄評價次數"
   ]
  },
  {
   "cell_type": "code",
   "execution_count": 587,
   "metadata": {},
   "outputs": [
    {
     "data": {
      "text/html": [
       "<div>\n",
       "<style scoped>\n",
       "    .dataframe tbody tr th:only-of-type {\n",
       "        vertical-align: middle;\n",
       "    }\n",
       "\n",
       "    .dataframe tbody tr th {\n",
       "        vertical-align: top;\n",
       "    }\n",
       "\n",
       "    .dataframe thead th {\n",
       "        text-align: right;\n",
       "    }\n",
       "</style>\n",
       "<table border=\"1\" class=\"dataframe\">\n",
       "  <thead>\n",
       "    <tr style=\"text-align: right;\">\n",
       "      <th></th>\n",
       "      <th>brand</th>\n",
       "      <th>title</th>\n",
       "      <th>price</th>\n",
       "      <th>rank</th>\n",
       "      <th>description</th>\n",
       "    </tr>\n",
       "    <tr>\n",
       "      <th>asin</th>\n",
       "      <th></th>\n",
       "      <th></th>\n",
       "      <th></th>\n",
       "      <th></th>\n",
       "      <th></th>\n",
       "    </tr>\n",
       "  </thead>\n",
       "  <tbody>\n",
       "    <tr>\n",
       "      <th>6546546450</th>\n",
       "      <td>idea village</td>\n",
       "      <td>Loud 'N Clear&amp;trade; Personal Sound Amplifier</td>\n",
       "      <td></td>\n",
       "      <td>2,938,573 in Beauty &amp; Personal Care (</td>\n",
       "      <td>[Loud 'N Clear Personal Sound Amplifier allows...</td>\n",
       "    </tr>\n",
       "    <tr>\n",
       "      <th>7178680776</th>\n",
       "      <td></td>\n",
       "      <td>No7 Lift &amp;amp; Luminate Triple Action Serum 50...</td>\n",
       "      <td>$44.99</td>\n",
       "      <td>872,854 in Beauty &amp; Personal Care (</td>\n",
       "      <td>[No7 Lift &amp; Luminate Triple Action Serum 50ml ...</td>\n",
       "    </tr>\n",
       "    <tr>\n",
       "      <th>7250468162</th>\n",
       "      <td>No7</td>\n",
       "      <td>No7 Stay Perfect Foundation Cool Vanilla by No7</td>\n",
       "      <td>$28.76</td>\n",
       "      <td>956,696 in Beauty &amp; Personal Care (</td>\n",
       "      <td>[No7 Stay Perfect Foundation now stays perfect...</td>\n",
       "    </tr>\n",
       "    <tr>\n",
       "      <th>7367905066</th>\n",
       "      <td></td>\n",
       "      <td>Wella Koleston Perfect Hair Colour 44/44 Mediu...</td>\n",
       "      <td></td>\n",
       "      <td>1,870,258 in Beauty &amp; Personal Care (</td>\n",
       "      <td>[]</td>\n",
       "    </tr>\n",
       "    <tr>\n",
       "      <th>7414204790</th>\n",
       "      <td>Pirmal Healthcare</td>\n",
       "      <td>Lacto Calamine Skin Balance Oil control 120 ml...</td>\n",
       "      <td>$12.15</td>\n",
       "      <td>67,701 in Beauty &amp; Personal Care (</td>\n",
       "      <td>[Lacto Calamine Skin Balance Daily Nourishing ...</td>\n",
       "    </tr>\n",
       "  </tbody>\n",
       "</table>\n",
       "</div>"
      ],
      "text/plain": [
       "                        brand  \\\n",
       "asin                            \n",
       "6546546450       idea village   \n",
       "7178680776                      \n",
       "7250468162                No7   \n",
       "7367905066                      \n",
       "7414204790  Pirmal Healthcare   \n",
       "\n",
       "                                                        title   price  \\\n",
       "asin                                                                    \n",
       "6546546450      Loud 'N Clear&trade; Personal Sound Amplifier           \n",
       "7178680776  No7 Lift &amp; Luminate Triple Action Serum 50...  $44.99   \n",
       "7250468162    No7 Stay Perfect Foundation Cool Vanilla by No7  $28.76   \n",
       "7367905066  Wella Koleston Perfect Hair Colour 44/44 Mediu...           \n",
       "7414204790  Lacto Calamine Skin Balance Oil control 120 ml...  $12.15   \n",
       "\n",
       "                                             rank  \\\n",
       "asin                                                \n",
       "6546546450  2,938,573 in Beauty & Personal Care (   \n",
       "7178680776    872,854 in Beauty & Personal Care (   \n",
       "7250468162    956,696 in Beauty & Personal Care (   \n",
       "7367905066  1,870,258 in Beauty & Personal Care (   \n",
       "7414204790     67,701 in Beauty & Personal Care (   \n",
       "\n",
       "                                                  description  \n",
       "asin                                                           \n",
       "6546546450  [Loud 'N Clear Personal Sound Amplifier allows...  \n",
       "7178680776  [No7 Lift & Luminate Triple Action Serum 50ml ...  \n",
       "7250468162  [No7 Stay Perfect Foundation now stays perfect...  \n",
       "7367905066                                                 []  \n",
       "7414204790  [Lacto Calamine Skin Balance Daily Nourishing ...  "
      ]
     },
     "execution_count": 587,
     "metadata": {},
     "output_type": "execute_result"
    }
   ],
   "source": [
    "# Set 'asin' as the index\n",
    "meta_All_Beauty_df = meta_All_Beauty_df.set_index('asin')\n",
    "meta_All_Beauty_df[['brand', 'title', 'price', 'rank', 'description']].head(5)"
   ]
  },
  {
   "cell_type": "code",
   "execution_count": 591,
   "metadata": {},
   "outputs": [
    {
     "data": {
      "text/html": [
       "<div>\n",
       "<style scoped>\n",
       "    .dataframe tbody tr th:only-of-type {\n",
       "        vertical-align: middle;\n",
       "    }\n",
       "\n",
       "    .dataframe tbody tr th {\n",
       "        vertical-align: top;\n",
       "    }\n",
       "\n",
       "    .dataframe thead th {\n",
       "        text-align: right;\n",
       "    }\n",
       "</style>\n",
       "<table border=\"1\" class=\"dataframe\">\n",
       "  <thead>\n",
       "    <tr style=\"text-align: right;\">\n",
       "      <th></th>\n",
       "      <th>brand</th>\n",
       "      <th>title</th>\n",
       "      <th>price</th>\n",
       "      <th>rank</th>\n",
       "      <th>description</th>\n",
       "      <th>overall_mean</th>\n",
       "      <th>reviews_count</th>\n",
       "    </tr>\n",
       "    <tr>\n",
       "      <th>asin</th>\n",
       "      <th></th>\n",
       "      <th></th>\n",
       "      <th></th>\n",
       "      <th></th>\n",
       "      <th></th>\n",
       "      <th></th>\n",
       "      <th></th>\n",
       "    </tr>\n",
       "  </thead>\n",
       "  <tbody>\n",
       "    <tr>\n",
       "      <th>6546546450</th>\n",
       "      <td>idea village</td>\n",
       "      <td>Loud 'N Clear&amp;trade; Personal Sound Amplifier</td>\n",
       "      <td></td>\n",
       "      <td>2,938,573 in Beauty &amp; Personal Care (</td>\n",
       "      <td>[Loud 'N Clear Personal Sound Amplifier allows...</td>\n",
       "      <td>2.5</td>\n",
       "      <td>2.0</td>\n",
       "    </tr>\n",
       "    <tr>\n",
       "      <th>7178680776</th>\n",
       "      <td></td>\n",
       "      <td>No7 Lift &amp;amp; Luminate Triple Action Serum 50...</td>\n",
       "      <td>$44.99</td>\n",
       "      <td>872,854 in Beauty &amp; Personal Care (</td>\n",
       "      <td>[No7 Lift &amp; Luminate Triple Action Serum 50ml ...</td>\n",
       "      <td>3.0</td>\n",
       "      <td>1.0</td>\n",
       "    </tr>\n",
       "    <tr>\n",
       "      <th>7250468162</th>\n",
       "      <td>No7</td>\n",
       "      <td>No7 Stay Perfect Foundation Cool Vanilla by No7</td>\n",
       "      <td>$28.76</td>\n",
       "      <td>956,696 in Beauty &amp; Personal Care (</td>\n",
       "      <td>[No7 Stay Perfect Foundation now stays perfect...</td>\n",
       "      <td>5.0</td>\n",
       "      <td>1.0</td>\n",
       "    </tr>\n",
       "    <tr>\n",
       "      <th>7367905066</th>\n",
       "      <td></td>\n",
       "      <td>Wella Koleston Perfect Hair Colour 44/44 Mediu...</td>\n",
       "      <td></td>\n",
       "      <td>1,870,258 in Beauty &amp; Personal Care (</td>\n",
       "      <td>[]</td>\n",
       "      <td>5.0</td>\n",
       "      <td>1.0</td>\n",
       "    </tr>\n",
       "    <tr>\n",
       "      <th>7414204790</th>\n",
       "      <td>Pirmal Healthcare</td>\n",
       "      <td>Lacto Calamine Skin Balance Oil control 120 ml...</td>\n",
       "      <td>$12.15</td>\n",
       "      <td>67,701 in Beauty &amp; Personal Care (</td>\n",
       "      <td>[Lacto Calamine Skin Balance Daily Nourishing ...</td>\n",
       "      <td>4.4</td>\n",
       "      <td>15.0</td>\n",
       "    </tr>\n",
       "  </tbody>\n",
       "</table>\n",
       "</div>"
      ],
      "text/plain": [
       "                        brand  \\\n",
       "asin                            \n",
       "6546546450       idea village   \n",
       "7178680776                      \n",
       "7250468162                No7   \n",
       "7367905066                      \n",
       "7414204790  Pirmal Healthcare   \n",
       "\n",
       "                                                        title   price  \\\n",
       "asin                                                                    \n",
       "6546546450      Loud 'N Clear&trade; Personal Sound Amplifier           \n",
       "7178680776  No7 Lift &amp; Luminate Triple Action Serum 50...  $44.99   \n",
       "7250468162    No7 Stay Perfect Foundation Cool Vanilla by No7  $28.76   \n",
       "7367905066  Wella Koleston Perfect Hair Colour 44/44 Mediu...           \n",
       "7414204790  Lacto Calamine Skin Balance Oil control 120 ml...  $12.15   \n",
       "\n",
       "                                             rank  \\\n",
       "asin                                                \n",
       "6546546450  2,938,573 in Beauty & Personal Care (   \n",
       "7178680776    872,854 in Beauty & Personal Care (   \n",
       "7250468162    956,696 in Beauty & Personal Care (   \n",
       "7367905066  1,870,258 in Beauty & Personal Care (   \n",
       "7414204790     67,701 in Beauty & Personal Care (   \n",
       "\n",
       "                                                  description  overall_mean  \\\n",
       "asin                                                                          \n",
       "6546546450  [Loud 'N Clear Personal Sound Amplifier allows...           2.5   \n",
       "7178680776  [No7 Lift & Luminate Triple Action Serum 50ml ...           3.0   \n",
       "7250468162  [No7 Stay Perfect Foundation now stays perfect...           5.0   \n",
       "7367905066                                                 []           5.0   \n",
       "7414204790  [Lacto Calamine Skin Balance Daily Nourishing ...           4.4   \n",
       "\n",
       "            reviews_count  \n",
       "asin                       \n",
       "6546546450            2.0  \n",
       "7178680776            1.0  \n",
       "7250468162            1.0  \n",
       "7367905066            1.0  \n",
       "7414204790           15.0  "
      ]
     },
     "execution_count": 591,
     "metadata": {},
     "output_type": "execute_result"
    }
   ],
   "source": [
    "# overall_mean\n",
    "meta_All_Beauty_df['overall_mean'] = All_Beauty_df.groupby(by='asin')['overall'].mean()\n",
    "# 'reviews_count'\n",
    "meta_All_Beauty_df['reviews_count'] = All_Beauty_df.groupby(by=['asin']).size()\n",
    "meta_All_Beauty_df[['brand', 'title', 'price', 'rank', 'description', 'overall_mean', 'reviews_count']].head(5)"
   ]
  },
  {
   "cell_type": "markdown",
   "metadata": {},
   "source": [
    "1. 最高銷售排名的產品其使用者平均的評分？\n",
    "2. 最高銷售排名的產品其使用者評價次數？"
   ]
  },
  {
   "cell_type": "code",
   "execution_count": 592,
   "metadata": {},
   "outputs": [
    {
     "data": {
      "text/html": [
       "<div>\n",
       "<style scoped>\n",
       "    .dataframe tbody tr th:only-of-type {\n",
       "        vertical-align: middle;\n",
       "    }\n",
       "\n",
       "    .dataframe tbody tr th {\n",
       "        vertical-align: top;\n",
       "    }\n",
       "\n",
       "    .dataframe thead th {\n",
       "        text-align: right;\n",
       "    }\n",
       "</style>\n",
       "<table border=\"1\" class=\"dataframe\">\n",
       "  <thead>\n",
       "    <tr style=\"text-align: right;\">\n",
       "      <th></th>\n",
       "      <th>title</th>\n",
       "      <th>rankNum</th>\n",
       "      <th>overall_mean</th>\n",
       "      <th>reviews_count</th>\n",
       "    </tr>\n",
       "    <tr>\n",
       "      <th>asin</th>\n",
       "      <th></th>\n",
       "      <th></th>\n",
       "      <th></th>\n",
       "      <th></th>\n",
       "    </tr>\n",
       "  </thead>\n",
       "  <tbody>\n",
       "    <tr>\n",
       "      <th>B00BXPVIT8</th>\n",
       "      <td>Braun Clean &amp;amp; Renew Refill Cartridges CCR,...</td>\n",
       "      <td>35.0</td>\n",
       "      <td>4.846154</td>\n",
       "      <td>13.0</td>\n",
       "    </tr>\n",
       "    <tr>\n",
       "      <th>B006IB5T4W</th>\n",
       "      <td>Aquaphor Healing Ointment,Advanced Therapy Ski...</td>\n",
       "      <td>65.0</td>\n",
       "      <td>4.643369</td>\n",
       "      <td>2790.0</td>\n",
       "    </tr>\n",
       "    <tr>\n",
       "      <th>B00HYEPVG8</th>\n",
       "      <td>Astra Platinum Double Edge Safety Razor Blades...</td>\n",
       "      <td>245.0</td>\n",
       "      <td>4.588235</td>\n",
       "      <td>34.0</td>\n",
       "    </tr>\n",
       "    <tr>\n",
       "      <th>B001QY8QXM</th>\n",
       "      <td>Astra Platinum Double Edge Safety Razor Blades...</td>\n",
       "      <td>280.0</td>\n",
       "      <td>4.556118</td>\n",
       "      <td>4544.0</td>\n",
       "    </tr>\n",
       "    <tr>\n",
       "      <th>B00005JS5C</th>\n",
       "      <td>Panasonic Bikini Shaper and Trimmer for Women ...</td>\n",
       "      <td>457.0</td>\n",
       "      <td>4.088039</td>\n",
       "      <td>2249.0</td>\n",
       "    </tr>\n",
       "  </tbody>\n",
       "</table>\n",
       "</div>"
      ],
      "text/plain": [
       "                                                        title  rankNum  \\\n",
       "asin                                                                     \n",
       "B00BXPVIT8  Braun Clean &amp; Renew Refill Cartridges CCR,...     35.0   \n",
       "B006IB5T4W  Aquaphor Healing Ointment,Advanced Therapy Ski...     65.0   \n",
       "B00HYEPVG8  Astra Platinum Double Edge Safety Razor Blades...    245.0   \n",
       "B001QY8QXM  Astra Platinum Double Edge Safety Razor Blades...    280.0   \n",
       "B00005JS5C  Panasonic Bikini Shaper and Trimmer for Women ...    457.0   \n",
       "\n",
       "            overall_mean  reviews_count  \n",
       "asin                                     \n",
       "B00BXPVIT8      4.846154           13.0  \n",
       "B006IB5T4W      4.643369         2790.0  \n",
       "B00HYEPVG8      4.588235           34.0  \n",
       "B001QY8QXM      4.556118         4544.0  \n",
       "B00005JS5C      4.088039         2249.0  "
      ]
     },
     "execution_count": 592,
     "metadata": {},
     "output_type": "execute_result"
    }
   ],
   "source": [
    "meta_All_Beauty_df.sort_values(by='rankNum', ascending=True)[['title', 'rankNum', 'overall_mean', 'reviews_count']].head(5)"
   ]
  },
  {
   "cell_type": "markdown",
   "metadata": {},
   "source": [
    "<mark style=background-color:grey><font color=red>\n",
    "Ans: </mark>\n",
    "1. 4.846\n",
    "2. 13\n",
    "\n",
    "</font>"
   ]
  },
  {
   "cell_type": "markdown",
   "metadata": {},
   "source": []
  }
 ],
 "metadata": {
  "interpreter": {
   "hash": "17d848ecf486c5324c5ef411cb140e3e45eed2d847f98f4049d5a7ddf107a133"
  },
  "kernelspec": {
   "display_name": "Python 3.8.8 64-bit ('base': conda)",
   "language": "python",
   "name": "python3"
  },
  "language_info": {
   "codemirror_mode": {
    "name": "ipython",
    "version": 3
   },
   "file_extension": ".py",
   "mimetype": "text/x-python",
   "name": "python",
   "nbconvert_exporter": "python",
   "pygments_lexer": "ipython3",
   "version": "3.8.8"
  },
  "orig_nbformat": 4
 },
 "nbformat": 4,
 "nbformat_minor": 2
}
